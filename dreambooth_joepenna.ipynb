{
 "cells": [
  {
   "cell_type": "markdown",
   "metadata": {},
   "source": [
    "# Dreambooth\n",
    "Notebook implementation by David Bielejeski\n",
    "Latest information on: https://github.com/JoePenna/Dreambooth-Stable-Diffusion"
   ]
  },
  {
   "cell_type": "markdown",
   "metadata": {},
   "source": [
    "# Download with GDown"
   ]
  },
  {
   "cell_type": "code",
   "execution_count": null,
   "metadata": {
    "pycharm": {
     "is_executing": true
    }
   },
   "outputs": [],
   "source": [
    "# Download model with gdown\n\n",
    "# https://github.com/JoePenna/Dreambooth-Stable-Diffusion/\n",
    "!pip install gdown\n",
    "# !gdown --id {insert-id-here}"
   ]
  },
  {
    "cell_type": "markdown",
    "metadata": {},
    "source": [
     "# Download from HuggingFace"
    ]
   },
   {
    "cell_type": "code",
    "execution_count": null,
    "metadata": {
     "pycharm": {
      "is_executing": true
     }
    },
    "outputs": [],
    "source": [
     "# Download model from HuggingFace\n\n",
      "!pip install huggingface_hub\n\n",
      "from huggingface_hub import hf_hub_download\n",
      "import joblib\n\n",
      "REPO_ID = \"id\"\n",
      "FILENAME = \"id\"\n\n",
      "hf_hub_download(repo_id=REPO_ID, filename=FILENAME, local_dir=\"/workspace\")"
    ]
   },
  {
   "cell_type": "markdown",
   "metadata": {},
   "source": [
    "## Build Environment"
   ]
  },
  {
   "cell_type": "code",
   "execution_count": null,
   "metadata": {
    "pycharm": {
     "is_executing": true
    }
   },
   "outputs": [],
   "source": [
    "from IPython.display import clear_output\n",
    "from IPython.utils import io\n",
    "\n",
    "print(\"Installing widgets library...\")\n",
    "with io.capture_output() as captured:\n",
    "    !pip install ipywidgets\n",
    "clear_output()\n",
    "\n",
    "from JupyterNotebookHelpers.installer_progress_bar_widget import InstallerProgressBar\n",
    "\n",
    "show_detailed_output = False\n",
    "install_commands = [\n",
    "    \"pip install numpy==1.23.1\",\n",
    "    \"pip install pytorch-lightning==1.7.6\",\n",
    "    \"pip install csv-logger\",\n",
    "    \"pip install torchmetrics==0.11.1\",\n",
    "    \"pip install torch-fidelity==0.3.0\",\n",
    "    \"pip install albumentations==1.1.0\",\n",
    "    \"pip install opencv-python==4.7.0.72\",\n",
    "    \"pip install pudb==2019.2\",\n",
    "    \"pip install omegaconf==2.1.1\",\n",
    "    \"pip install pillow==9.4.0\",\n",
    "    \"pip install einops==0.4.1\",\n",
    "    \"pip install transformers==4.25.1\",\n",
    "    \"pip install kornia==0.6.7\",\n",
    "    \"pip install diffusers[training]==0.3.0\",\n",
    "    \"pip install captionizer==1.0.1\",\n",
    "    \"pip install -e git+https://github.com/CompVis/taming-transformers.git@master#egg=taming-transformers\",\n",
    "    \"pip install -e git+https://github.com/openai/CLIP.git@main#egg=clip\",\n",
    "    \"pip install -e .\",\n",
    "    \"pip install huggingface_hub\",\n",
    "    \"pip install gitpython\",\n",
    "]\n",
    "\n",
    "progress_bar = InstallerProgressBar()\n",
    "progress_bar.show(install_commands)\n",
    "\n",
    "try:\n",
    "    for i, install_command in enumerate(install_commands):\n",
    "        if show_detailed_output:\n",
    "            !{install_command}\n",
    "        else:\n",
    "            with io.capture_output() as captured:\n",
    "                !{install_command}\n",
    "            print(f\"☑ '{install_command.replace('pip install ', '')}' installation complete.\")\n",
    "\n",
    "        # update the progress bar\n",
    "        progress_bar.increment(i)\n",
    "\n",
    "    progress_bar.close()\n",
    "    print(\"✅ All Dependencies successfully installed.  Proceed to model download.\")\n",
    "\n",
    "except:\n",
    "    progress_bar.close()\n",
    "    print(\"❌ Error installing dependencies\")"
   ]
  },
  {
   "cell_type": "markdown",
   "metadata": {},
   "source": [
    "# Download a 1.* model"
   ]
  },
  {
   "cell_type": "code",
   "execution_count": null,
   "metadata": {
    "pycharm": {
     "is_executing": true
    }
   },
   "outputs": [],
   "source": [
    "from JupyterNotebookHelpers.download_model import DownloadModel\n",
    "\n",
    "download_model = DownloadModel()\n",
    "download_model.show_form()"
   ]
  },
  {
    "cell_type": "markdown",
    "metadata": {},
    "source": [
      "# Download Regularization images",
      "Then Edit the 2 files in the 'joepenna-dreambooth-configs' folder\n",
      "Change the 'regularization_image_folder_path' to '512x512/{tag}_ddim"
    ]
  },
  {
    "cell_type": "code",
    "metadata": {},
    "source": [
      "reg_upload_folder = '512x512'\n",
      "tag = 'anything'\n",
      "reg_folder = '512x512Reg'\n",
      "!mkdir -p {reg_folder}\n",
      "reg_zip_filename = '512x512.zip'\n",
      "!mv {reg_zip_filename} {reg_folder}\n",
      
      "import zipfile as zf\n",
      "files = zf.ZipFile(f'{reg_folder}/' + f'{reg_zip_filename}','r')\n",
      "files.extractall('/workspace/Dreambooth-Stable-Diffusion/512x512Reg')\n",
      "files.close()\n",
      
      "!mv /workspace/Dreambooth-Stable-Diffusion/512x512Reg/512x512 /workspace/Dreambooth-Stable-Diffusion/512x512Reg/{tag}_ddim\n"
    ]
   },
  {
   "cell_type": "markdown",
   "metadata": {},
   "source": [
    "## Dreambooth Training Environment Setup"
   ]
  },
  {
   "cell_type": "code",
   "execution_count": null,
   "metadata": {
    "pycharm": {
     "is_executing": true
    }
   },
   "outputs": [],
   "source": [
    "from JupyterNotebookHelpers.setup_training import SetupTraining\n",
    "\n",
    "setup_training = SetupTraining()\n",
    "\n",
    "# Pass our selected model to the training form\n",
    "model_to_train_on = download_model.get_selected_model()\n",
    "\n",
    "# Show the form.\n",
    "setup_training.show_form(\n",
    "    selected_model=model_to_train_on\n",
    ")"
   ]
  },
  {
   "cell_type": "markdown",
   "metadata": {},
   "source": [
    "## Training\n",
    "\n",
    "If training a person or subject, keep an eye on your project's `logs/{folder}/images/train/samples_scaled_gs-00xxxx` generations.\n",
    "\n",
    "If training a style, keep an eye on your project's `logs/{folder}/images/train/samples_gs-00xxxx` generations."
   ]
  },
  {
   "cell_type": "code",
   "execution_count": null,
   "metadata": {
    "pycharm": {
     "is_executing": true
    }
   },
   "outputs": [],
   "source": [
    "from IPython.display import clear_output\n",
    "import os\n",
    "import shutil\n",
    "\n",
    "clear_output()\n",
    "\n",
    "# Load the config generated on the previous step\n",
    "active_config_path = \"./joepenna-dreambooth-configs/active-config.json\"\n",
    "\n",
    "if os.path.exists(active_config_path):\n",
    "    # Cleanup garbage files if they exist\n",
    "    leftover_training_files = [\"./training_images/.ipynb_checkpoints\", \"./regularization_images/.ipynb_checkpoints\"]\n",
    "    for i, ipynb_checkpoint_folder in enumerate(leftover_training_files):\n",
    "        if os.path.exists(ipynb_checkpoint_folder):\n",
    "            shutil.rmtree(ipynb_checkpoint_folder)\n",
    "\n",
    "    # Train\n",
    "    !python \"main.py\" --config_file_path \"{active_config_path}\""
   ]
  },
  {
   "cell_type": "markdown",
   "metadata": {},
   "source": [
    "# Optional - Upload to google drive\n",
    "* run the following commands in a new `terminal` in the `Dreambooth-Stable-Diffusion` directory\n",
    "* `chmod +x ./gdrive`\n",
    "* `./gdrive about`\n",
    "* `paste your token here after navigating to the link`\n",
    "* `./gdrive upload trained_models/{file_name.ckpt}`"
   ]
  },
  {
    "cell_type": "markdown",
    "metadata": {},
    "source": [
     "# Optional - Upload to HuggingFace\n",
     "* run the following commands in a new `terminal` in the `Dreambooth-Stable-Diffusion` directory\n",
     "Create a hugging face repo\n",
     "Add read and write access tokens for your huggingface account, for logging in with the next step\n",
     "* `python -m pip install huggingface_hub`\n",
     "* `huggingface-cli login`\n",
     "Create a git sshkey for your account\n",
     "* `ssh-keygen -t ed25519 -C \"my_email@gmail.com\"`\n",
     "* `cat /root/.ssh/id_ed25519.pub`\n",
     "Add ssh public key to hugging face account\n",
     "Clone your hugging face repo\n",
     "* `git clone git@hf.co:<your-username>/<your-model-name>`\n",
     "* `cd <your-model-name>`\n",
     "Install git-lfs\n",
     "* `apt-update`\n",
     "* `apt install git-lfs`\n",
     "Init git-lfs\n",
     "* `git lfs install`\n",
     "Note that if your files are larger than 5GB you’ll also need to run:\n",
     "* `huggingface-cli lfs-enable-largefiles .`\n",
     "Push to huggingface\n",
     "* `git add .`\n",
     "* `git commit -m \"First model version\"`\n",
     "* `git push`\n"
    ]
   },
  {
   "cell_type": "markdown",
   "metadata": {},
   "source": [
    "# Big Important Note!\n",
    "\n",
    "The way to use your token is `<token> <class>` ie `joepenna person` and not just `joepenna`"
   ]
  }
 ],
 "metadata": {
  "kernelspec": {
   "display_name": "Python 3 (ipykernel)",
   "language": "python",
   "name": "python3"
  },
  "language_info": {
   "codemirror_mode": {
    "name": "ipython",
    "version": 3
   },
   "file_extension": ".py",
   "mimetype": "text/x-python",
   "name": "python",
   "nbconvert_exporter": "python",
   "pygments_lexer": "ipython3",
   "version": "3.10.7"
  }
 },
 "nbformat": 4,
 "nbformat_minor": 1
}
